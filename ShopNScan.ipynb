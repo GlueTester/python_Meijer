{
 "cells": [
  {
   "cell_type": "markdown",
   "metadata": {},
   "source": [
    "# Reverse Engineering Meijer Shop & Scan.\n",
    "\n",
    "Meijer has added a feature called 'shop and scan' to their app.\n",
    "\n",
    "https://www.meijer.com/content/content.jsp?pageName=shopandscan\n",
    "\n",
    "It allows you to use your cell phone camera to take a picture of a barcode, have a 'shopping cart' and then check out fast.\n",
    "\n",
    "While it is a good 'beta' there are multiple design flaws. The biggest design flaw is *requiring* the cell phone's camera to scan the barcode. \n",
    "\n",
    "- It's slow, decoding is done in software and not an ASIC/FPGA.\n",
    "- In store lighting conditions make some barcodes hard to read.\n",
    "\n",
    "[mitmproxy](https://mitmproxy.org) is a free and open source interactive HTTPS proxy. By sniffing all traffic in and out of the Meijer app I hope to discover a way to make my own better app just using Meijer's public, undocumented APIs."
   ]
  },
  {
   "cell_type": "code",
   "execution_count": null,
   "metadata": {},
   "outputs": [],
   "source": []
  }
 ],
 "metadata": {
  "kernelspec": {
   "display_name": "Python 3",
   "language": "python",
   "name": "python3"
  },
  "language_info": {
   "codemirror_mode": {
    "name": "ipython",
    "version": 3
   },
   "file_extension": ".py",
   "mimetype": "text/x-python",
   "name": "python",
   "nbconvert_exporter": "python",
   "pygments_lexer": "ipython3",
   "version": "3.6.5"
  }
 },
 "nbformat": 4,
 "nbformat_minor": 2
}
