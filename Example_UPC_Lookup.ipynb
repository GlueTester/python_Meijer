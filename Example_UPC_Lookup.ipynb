{
 "cells": [
  {
   "cell_type": "markdown",
   "metadata": {},
   "source": [
    "# UPC Lookup\n",
    "\n",
    "Look up Meijer UPCs and return data."
   ]
  },
  {
   "cell_type": "code",
   "execution_count": 6,
   "metadata": {},
   "outputs": [],
   "source": [
    "import sys, os\n",
    "import pandas as pd\n",
    "sys.path.append(os.path.abspath(\"meijer\"))"
   ]
  },
  {
   "cell_type": "code",
   "execution_count": 2,
   "metadata": {},
   "outputs": [],
   "source": [
    "%load_ext autoreload\n",
    "%autoreload 2"
   ]
  },
  {
   "cell_type": "markdown",
   "metadata": {},
   "source": [
    "# Create ```Meijer``` instance."
   ]
  },
  {
   "cell_type": "code",
   "execution_count": 7,
   "metadata": {},
   "outputs": [],
   "source": [
    "from meijer import Meijer\n",
    "# m = Meijer(\"<mperks-email>|<mperks-password>\") # Password, not PIN.\n",
    "# If no meijer_api_key is specified the class looks at the ```MEIJER_API_KEY``` environmental variable. \n",
    "m = Meijer()\n",
    "self = m"
   ]
  },
  {
   "cell_type": "code",
   "execution_count": 10,
   "metadata": {},
   "outputs": [],
   "source": [
    "m.get_upc?"
   ]
  },
  {
   "cell_type": "markdown",
   "metadata": {},
   "source": [
    "# Call ```.get_upc()```\n",
    "\n",
    "Defaults:\n",
    "\n",
    "- upc='4125010200' [Meijer Vitamin D milk]\n",
    "- storeID='226' [Rockford Meijer Store, chosen at random]\n"
   ]
  },
  {
   "cell_type": "code",
   "execution_count": 11,
   "metadata": {},
   "outputs": [
    {
     "data": {
      "text/plain": [
       "{'meta': {'totalResults': 1,\n",
       "  'startingIndex': 0,\n",
       "  'resultsReturned': 1,\n",
       "  'sort': 'score desc,upc asc',\n",
       "  'facets': [{'field': 'hw_claims',\n",
       "    'displayName': 'Health and Wellness',\n",
       "    'type': 'value',\n",
       "    'values': []},\n",
       "   {'field': 'ways_to_save',\n",
       "    'displayName': 'Ways to Save',\n",
       "    'type': 'value',\n",
       "    'values': []}],\n",
       "  'categories': [{'field': 'TierId',\n",
       "    'displayName': 'Category',\n",
       "    'values': [{'value': 'T2-10308', 'display': 'Dairy', 'count': 1},\n",
       "     {'value': 'T2-10428', 'display': 'Mixed Fruit Tart', 'count': 1},\n",
       "     {'value': 'T2-10658', 'display': 'Breakfast', 'count': 1},\n",
       "     {'value': 'T2-10666', 'display': 'Rocky Road Brownies', 'count': 1},\n",
       "     {'value': 'T2-10697', 'display': 'Holiday Baking', 'count': 1},\n",
       "     {'value': 'T2-9974', 'display': 'Dairy', 'count': 1},\n",
       "     {'value': 'T2-9979', 'display': 'Cereal & Breakfast', 'count': 1}]}]},\n",
       " 'upcs': [{'id': '226_UPCA_4125010200',\n",
       "   'score': 99.37301,\n",
       "   'storeId': 226,\n",
       "   'upc': '4125010200',\n",
       "   'upc_type': 'UPCA',\n",
       "   'productId': '504293',\n",
       "   'shortName': 'Meijer Vitamin D Whole Milk, 1 Gallon',\n",
       "   'longName': 'MEIJER MILK VITAMIN D GAL',\n",
       "   'description': 'You can find it on the doors of almost every refrigerator and in countless bowls of cereal across the world. With a smooth, creamy flavor in every sip and an added serving of calcium and Vitamin D, what’s not to love about Meijer Vitamin D Whole Milk? There’s a reason why it’s always at the top of your grocery list.',\n",
       "   'uom': 'EA',\n",
       "   'sellingSize': 'GALLON    ',\n",
       "   'isRandomWeight': False,\n",
       "   'images': [{'type': 'Front',\n",
       "     'format': 'png',\n",
       "     'size': 100,\n",
       "     'isPrimary': True,\n",
       "     'href': 'https://static.meijer.com/Media/000/41250/0004125010200_1_A1C1_0100.png'},\n",
       "    {'type': 'Front',\n",
       "     'format': 'png',\n",
       "     'size': 200,\n",
       "     'isPrimary': True,\n",
       "     'href': 'https://static.meijer.com/Media/000/41250/0004125010200_1_A1C1_0200.png'},\n",
       "    {'type': 'Front',\n",
       "     'format': 'png',\n",
       "     'size': 600,\n",
       "     'isPrimary': True,\n",
       "     'href': 'https://static.meijer.com/Media/000/41250/0004125010200_1_A1C1_0600.png'},\n",
       "    {'type': 'Front',\n",
       "     'format': 'png',\n",
       "     'size': 2000,\n",
       "     'isPrimary': True,\n",
       "     'href': 'https://static.meijer.com/Media/000/41250/0004125010200_1_A1C1_2000.png'}],\n",
       "   'brandName': 'Meijer',\n",
       "   'brandIsMeijer': True,\n",
       "   'isActive': True,\n",
       "   'isSellable': True,\n",
       "   'isKilled': False,\n",
       "   'isClickAndCollect': False,\n",
       "   'isShipToHome': False,\n",
       "   'isQuickShop': True,\n",
       "   'isAlcohol': False,\n",
       "   'hasDeposit': False,\n",
       "   'isTobacco': False,\n",
       "   'isAgeRestricted': False,\n",
       "   'isHazardousMaterial': False,\n",
       "   'isPreparedItem': False,\n",
       "   'isOrganic': False,\n",
       "   'isLocal': False,\n",
       "   'isPrimaryUPC': True,\n",
       "   'tier1Ids': [865, 902, 906, 913, 915],\n",
       "   'tier2Ids': [9974, 9979, 10308, 10428, 10658, 10666, 10697],\n",
       "   'tier3Ids': [213, 1686, 2343, 2554, 2762],\n",
       "   'tier4Ids': [540, 2950, 3996, 4311],\n",
       "   'tier1Names': ['Back to School',\n",
       "    'Grocery',\n",
       "    'Holiday',\n",
       "    'Meijer Made',\n",
       "    'Recipes'],\n",
       "   'tier2Names': ['Breakfast',\n",
       "    'Cereal & Breakfast',\n",
       "    'Dairy',\n",
       "    'Holiday Baking',\n",
       "    'Mixed Fruit Tart',\n",
       "    'Rocky Road Brownies'],\n",
       "   'tier3Names': ['Milk', 'Milk & Butter', 'Stir Up Your Day'],\n",
       "   'tier4Names': ['Dairy Milk', 'Milk', 'Stir it Up', 'Traditional Milk'],\n",
       "   'tier1Facet': ['865|Grocery',\n",
       "    '902|Meijer Made',\n",
       "    '906|Recipes',\n",
       "    '913|Back to School',\n",
       "    '915|Holiday'],\n",
       "   'tier2Facet': ['9974|Dairy',\n",
       "    '9979|Cereal & Breakfast',\n",
       "    '10308|Dairy',\n",
       "    '10428|Mixed Fruit Tart',\n",
       "    '10658|Breakfast',\n",
       "    '10666|Rocky Road Brownies',\n",
       "    '10697|Holiday Baking'],\n",
       "   'tier3Facet': ['213|Milk',\n",
       "    '1686|Milk',\n",
       "    '2343|Stir Up Your Day',\n",
       "    '2554|Milk',\n",
       "    '2762|Milk & Butter'],\n",
       "   'tier4Facet': ['540|Traditional Milk',\n",
       "    '2950|Dairy Milk',\n",
       "    '3996|Stir it Up',\n",
       "    '4311|Milk'],\n",
       "   'priceText': '$2.99',\n",
       "   'priceValue': 2.99,\n",
       "   'savingsValue': 0.0,\n",
       "   'hasMPerksOffers': False,\n",
       "   'calories': '150',\n",
       "   'protein': '8',\n",
       "   'fat': '8',\n",
       "   'hasAltUomMethod': False,\n",
       "   'updatedTimeStamp': '2020-02-18T08:33:32.357Z',\n",
       "   'links': {'mPerksOffers': []},\n",
       "   'weightEach': 1.0,\n",
       "   'isSubstitutable': True,\n",
       "   'isHotItem': False,\n",
       "   'waysToSave': 'mPerks',\n",
       "   'availability': 'In Store Pickup',\n",
       "   'isHomeDeliverable': True,\n",
       "   'ilcs': ['DARY-0-22-4',\n",
       "    'DARY-0-22-6',\n",
       "    'DARY-0-22-7',\n",
       "    'DARY-0-22-8',\n",
       "    'DARY-0-23-5',\n",
       "    'DARY-0-23-7',\n",
       "    'DARY-0-23-9',\n",
       "    'DARY-0-23-11'],\n",
       "   'ilc_primary': 'DARY-0-22-4',\n",
       "   'priceLessThanMap': False,\n",
       "   'salePriceStartDate': '2020-02-28T00:00:00Z'}],\n",
       " 'linked': {}}"
      ]
     },
     "execution_count": 11,
     "metadata": {},
     "output_type": "execute_result"
    }
   ],
   "source": [
    "m.get_upc()"
   ]
  },
  {
   "cell_type": "markdown",
   "metadata": {},
   "source": [
    "# List all Stores"
   ]
  },
  {
   "cell_type": "code",
   "execution_count": 12,
   "metadata": {},
   "outputs": [],
   "source": [
    "stores = m.stores()"
   ]
  },
  {
   "cell_type": "markdown",
   "metadata": {},
   "source": [
    "# Find All Vitamin D Milk Prices"
   ]
  },
  {
   "cell_type": "code",
   "execution_count": 15,
   "metadata": {},
   "outputs": [],
   "source": [
    "data = list()\n",
    "for store in stores:\n",
    "    upc_data = m.get_upc(storeID=store[\"unitid\"])\n",
    "    if len(upc_data[\"upcs\"])>0:\n",
    "        try:\n",
    "            tmp = {\n",
    "                \"storeid\": store[\"unitid\"],\n",
    "                \"latitude\": store[\"latitude\"],\n",
    "                \"longitude\": store[\"longitude\"],\n",
    "                \"MeijerVitaminD\": upc_data[\"upcs\"][0][\"priceValue\"],\n",
    "            } \n",
    "            data.append(tmp)\n",
    "        except KeyError:\n",
    "            pass"
   ]
  },
  {
   "cell_type": "code",
   "execution_count": 18,
   "metadata": {},
   "outputs": [
    {
     "data": {
      "text/plain": [
       "253"
      ]
     },
     "execution_count": 18,
     "metadata": {},
     "output_type": "execute_result"
    }
   ],
   "source": [
    "len(stores)"
   ]
  },
  {
   "cell_type": "code",
   "execution_count": 19,
   "metadata": {},
   "outputs": [
    {
     "data": {
      "text/plain": [
       "245"
      ]
     },
     "execution_count": 19,
     "metadata": {},
     "output_type": "execute_result"
    }
   ],
   "source": [
    "len(data)"
   ]
  },
  {
   "cell_type": "markdown",
   "metadata": {},
   "source": [
    "# Convert Pricing Data to pandas DataFrame"
   ]
  },
  {
   "cell_type": "code",
   "execution_count": 20,
   "metadata": {},
   "outputs": [],
   "source": [
    "df = pd.DataFrame(data)"
   ]
  },
  {
   "cell_type": "code",
   "execution_count": 23,
   "metadata": {},
   "outputs": [],
   "source": [
    "import matplotlib.pyplot as plt\n",
    "import matplotlib.ticker as mtick"
   ]
  },
  {
   "cell_type": "code",
   "execution_count": 24,
   "metadata": {},
   "outputs": [
    {
     "data": {
      "image/png": "[encoded data removed]",
      "text/plain": [
       "<Figure size 432x288 with 1 Axes>"
      ]
     },
     "metadata": {
      "needs_background": "light"
     },
     "output_type": "display_data"
    }
   ],
   "source": [
    "ax = df.MeijerVitaminD.hist(bins=20)\n",
    "plt.title(\"Meijer Vitamin D Milk Histogram\")\n",
    "plt.xlabel(\"Price of Milk\")\n",
    "plt.ylabel(\"Number of Stores\")\n",
    "ax.xaxis.set_major_formatter(mtick.StrMethodFormatter(\"${x:,.2f}\"))"
   ]
  },
  {
   "cell_type": "markdown",
   "metadata": {},
   "source": [
    "## pl"
   ]
  },
  {
   "cell_type": "code",
   "execution_count": null,
   "metadata": {},
   "outputs": [],
   "source": [
    "stores = m.stores()"
   ]
  },
  {
   "cell_type": "code",
   "execution_count": null,
   "metadata": {},
   "outputs": [],
   "source": [
    "data = list()\n",
    "for store in stores:\n",
    "    upc_data = get_upc(self,storeID=store[\"unitid\"])\n",
    "    if len(upc_data[\"upcs\"])>0:\n",
    "        tmp = {\n",
    "            \"storeid\": store[\"unitid\"],\n",
    "            \"latitude\": store[\"latitude\"],\n",
    "            \"longitude\": store[\"longitude\"],\n",
    "            \"MeijerVitaminD\": upc_data[\"upcs\"][0][\"priceValue\"],\n",
    "        }\n",
    "        if store[\"FuelPrices\"] is not None:\n",
    "            for fuel_price in store[\"FuelPrices\"]:\n",
    "                fuel_type = fuel_price[\"FuelType\"].split(\"-\")[0]\n",
    "                fuel_price = fuel_price[\"FuelPrice\"]\n",
    "                tmp[fuel_type]=fuel_price\n",
    "        data.append(tmp)\n",
    "df = pd.DataFrame(data)"
   ]
  },
  {
   "cell_type": "code",
   "execution_count": null,
   "metadata": {},
   "outputs": [],
   "source": [
    "df"
   ]
  },
  {
   "cell_type": "code",
   "execution_count": null,
   "metadata": {},
   "outputs": [],
   "source": [
    "df.plot.scatter(x=\"UNL\", y=\"MID\")"
   ]
  },
  {
   "cell_type": "code",
   "execution_count": null,
   "metadata": {},
   "outputs": [],
   "source": [
    "df.plot.scatter(x=\"UNL\", y=\"MeijerVitaminD\")"
   ]
  }
 ],
 "metadata": {
  "kernelspec": {
   "display_name": "Python 3",
   "language": "python",
   "name": "python3"
  },
  "language_info": {
   "codemirror_mode": {
    "name": "ipython",
    "version": 3
   },
   "file_extension": ".py",
   "mimetype": "text/x-python",
   "name": "python",
   "nbconvert_exporter": "python",
   "pygments_lexer": "ipython3",
   "version": "3.8.0"
  }
 },
 "nbformat": 4,
 "nbformat_minor": 2
}
