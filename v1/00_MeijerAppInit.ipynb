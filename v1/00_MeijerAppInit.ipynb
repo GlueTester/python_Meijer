{
 "cells": [
  {
   "cell_type": "markdown",
   "metadata": {},
   "source": [
    "# 00. Capture and Mimic First Run\n",
    "\n",
    "Procedure:\n",
    "\n",
    "Settings > Apps > Meijer.\n",
    "\n",
    "1. Force Stop.\n",
    "2. Clear Data.\n",
    "\n",
    "Start from complete scratch for mitmproxy.\n",
    "\n",
    "1. Launch mitmproxy, if not already running.\n",
    "2. Launch Meijer app."
   ]
  },
  {
   "cell_type": "markdown",
   "metadata": {},
   "source": [
    "There is a lot of 'chatter', requests blocked by pihole don't need replicated.\n",
    "\n",
    "Right now just working on replicating requests, not comprehending them."
   ]
  },
  {
   "cell_type": "code",
   "execution_count": 1,
   "metadata": {},
   "outputs": [],
   "source": [
    "import requests"
   ]
  },
  {
   "cell_type": "markdown",
   "metadata": {},
   "source": [
    "#### Request 1"
   ]
  },
  {
   "cell_type": "code",
   "execution_count": 2,
   "metadata": {},
   "outputs": [
    {
     "data": {
      "text/plain": [
       "{'id': '2E0A2ACE05079F09-4000011C6000CD25'}"
      ]
     },
     "execution_count": 2,
     "metadata": {},
     "output_type": "execute_result"
    }
   ],
   "source": [
    "request=dict()\n",
    "request[\"url\"] = \"https://meijer.122.2o7.net/id\"\n",
    "request[\"headers\"] = {\n",
    "    'user-agent': 'Dalvik/2.1.0 (Linux; U; Android 5.0.2; HTCONE Build/LRX22G)'\n",
    "}\n",
    "r = requests.get(**request)\n",
    "assert r.status_code==200\n",
    "r.json() # An ID used for?"
   ]
  },
  {
   "cell_type": "markdown",
   "metadata": {},
   "source": [
    "#### Request 2"
   ]
  },
  {
   "cell_type": "code",
   "execution_count": 3,
   "metadata": {},
   "outputs": [
    {
     "data": {
      "text/plain": [
       "{'forceUserAccountsToUpdate': False,\n",
       " 'enableAisleFire': False,\n",
       " 'currentAppVersion': {'major': 5, 'minor': 9, 'patch': 0},\n",
       " 'currentAppVersionIOS': {'major': 5, 'minor': 9, 'patch': 0},\n",
       " 'currentAppVersionAndroid': {'major': 5, 'minor': 9, 'patch': 0},\n",
       " 'forceAppVersionIOS': {'major': 4, 'minor': 3, 'patch': 0, 'minOS': 9},\n",
       " 'forceAppVersionAndroid': {'major': 4, 'minor': 3, 'patch': 0, 'minSdk': 19},\n",
       " 'updateAppMessageTitle': 'New version available',\n",
       " 'updateAppMessage': 'Update now to get the latest features.',\n",
       " 'promptToAddmPerksCardInCreateAccountFlow': False,\n",
       " 'enableRatingsPrompt': True,\n",
       " 'percentChanceOfLoggingRatingsPromptEvent': 3,\n",
       " 'ratingsPromptCriteria': {'clippedCouponsCount': 11}}"
      ]
     },
     "execution_count": 3,
     "metadata": {},
     "output_type": "execute_result"
    }
   ],
   "source": [
    "request=dict()\n",
    "request[\"url\"] = \"https://static.meijer.com/mobileassets/info/mma_config.json\"\n",
    "request[\"headers\"] = {\n",
    "    'Platform': 'Android',\n",
    "    'Version': '5.10.0',\n",
    "    'Build': '51000000',\n",
    "    'User-Agent': 'okhttp/3.8.0'\n",
    "}\n",
    "r = requests.get(**request)\n",
    "assert r.status_code==200\n",
    "r.json() # Determine if the user needs to update."
   ]
  },
  {
   "cell_type": "markdown",
   "metadata": {},
   "source": [
    "#### Request 3\n",
    "\n",
    "The ```Authorization``` header is a base64 encoded string generated from:\n",
    "\n",
    "```./res/values/strings.xml:    <string name=\"account_services_secret\">drAqas76Re7RekeBanaMaNEMah7paDE5</string>```"
   ]
  },
  {
   "cell_type": "code",
   "execution_count": 4,
   "metadata": {},
   "outputs": [
    {
     "data": {
      "text/plain": [
       "b'mma:drAqas76Re7RekeBanaMaNEMah7paDE5'"
      ]
     },
     "execution_count": 4,
     "metadata": {},
     "output_type": "execute_result"
    }
   ],
   "source": [
    "import base64\n",
    "# Working Backwards.\n",
    "AUTH=\"bW1hOmRyQXFhczc2UmU3UmVrZUJhbmFNYU5FTWFoN3BhREU1\"\n",
    "base64.decodebytes(AUTH.encode(\"UTF-8\"))"
   ]
  },
  {
   "cell_type": "code",
   "execution_count": 5,
   "metadata": {},
   "outputs": [],
   "source": [
    "# Working Forward.\n",
    "account_services_secret=\"drAqas76Re7RekeBanaMaNEMah7paDE5\"\n",
    "AUTH_=base64.encodebytes(\"mma:{}\".format(account_services_secret).encode(\"UTF-8\")).decode(\"UTF-8\").strip()"
   ]
  },
  {
   "cell_type": "code",
   "execution_count": 6,
   "metadata": {},
   "outputs": [],
   "source": [
    "assert AUTH==AUTH_"
   ]
  },
  {
   "cell_type": "code",
   "execution_count": 7,
   "metadata": {},
   "outputs": [
    {
     "data": {
      "text/plain": [
       "dict_keys(['access_token', 'token_type', 'expires_in'])"
      ]
     },
     "execution_count": 7,
     "metadata": {},
     "output_type": "execute_result"
    }
   ],
   "source": [
    "request=dict()\n",
    "request[\"url\"] = \"https://login.meijer.com/as/token.oauth2\"\n",
    "request[\"headers\"] = {\n",
    "    'Authorization': 'Basic {}'.format(AUTH),\n",
    "    'Platform': 'Android',\n",
    "    'Version': '5.10.0',\n",
    "    'Build': '51000000',\n",
    "    'User-Agent': 'okhttp/3.8.0'\n",
    "}\n",
    "request[\"params\"] =  {\n",
    "    'grant_type': 'client_credentials',\n",
    "    'scope': 'openid',\n",
    "}\n",
    "r = requests.post(**request)\n",
    "assert r.status_code==200\n",
    "r.json().keys() # Determine if the user needs to update."
   ]
  },
  {
   "cell_type": "code",
   "execution_count": 8,
   "metadata": {},
   "outputs": [],
   "source": [
    "access_token = r.json()[\"access_token\"] # We'll need this later."
   ]
  },
  {
   "cell_type": "markdown",
   "metadata": {},
   "source": [
    "#### Request 4\n",
    "\n",
    "Get ads and dynamic content for the Meijer App.\n",
    "\n",
    "Relevant source file: ```./smali/com/meijer/mobile/serverapi/rxjava/DigitalMperksMMAAPIObservable.smali`` "
   ]
  },
  {
   "cell_type": "code",
   "execution_count": 9,
   "metadata": {
    "scrolled": true
   },
   "outputs": [
    {
     "data": {
      "text/plain": [
       "<Response [200]>"
      ]
     },
     "execution_count": 9,
     "metadata": {},
     "output_type": "execute_result"
    }
   ],
   "source": [
    "request=dict()\n",
    "request[\"url\"] = \"https://mperksservices.meijer.com/dgtlmPerksMMA/api/cms/home/content\"\n",
    "request[\"headers\"] = {\n",
    "    'Accept': 'application/vnd.meijer.digitalmperks.homecontent-v1.0+json',\n",
    "    'Authorization': 'Bearer {}'.format(access_token),\n",
    "    'Content-Type': 'application/vnd.meijer.digitalmperks.homecontent-v1.0+json',\n",
    "    'Platform': 'Android',\n",
    "    'Version': '5.10.0',\n",
    "    'Build': '51000000',\n",
    "    'User-Agent': 'okhttp/3.8.0'\n",
    "}\n",
    "r = requests.get(**request)\n",
    "r"
   ]
  },
  {
   "cell_type": "code",
   "execution_count": 11,
   "metadata": {},
   "outputs": [
    {
     "data": {
      "text/plain": [
       "{'bottomBanners': [{'deeplinkURL': 'meijerapp://mperks/bundle?tagName=2018dailydeals',\n",
       "   'bannerURL': 'http://static.meijer.com/mktg/web/mPerks/weekly/2018/1130/2018_DailyDeals_Homepage_App.jpg',\n",
       "   'locationIndex': 1.0,\n",
       "   'analyticsTag': '2018dailydeals'}],\n",
       " 'topBanner': {'deeplinkURL': 'meijerapp://mperks/bundle?tagName=20181213mperksevent',\n",
       "  'bannerURL': 'http://static.meijer.com/mktg/web/mPerks/weekly/2018/1209/20181213_Hook_App.jpg',\n",
       "  'locationIndex': 0.0,\n",
       "  'analyticsTag': 'Corporate_Hook'},\n",
       " 'specialOffersBannerURL': 'http://static.meijer.com/mktg/web/mPerks/weekly/HPO_Banners/2018/12_December/2018_December_App_1024x262.jpg'}"
      ]
     },
     "execution_count": 11,
     "metadata": {},
     "output_type": "execute_result"
    }
   ],
   "source": [
    "r.json()"
   ]
  },
  {
   "cell_type": "code",
   "execution_count": 12,
   "metadata": {},
   "outputs": [],
   "source": [
    "import IPython.display"
   ]
  },
  {
   "cell_type": "code",
   "execution_count": 13,
   "metadata": {},
   "outputs": [
    {
     "data": {
      "text/html": [
       "<img src=\"http://static.meijer.com/mktg/web/mPerks/weekly/HPO_Banners/2018/12_December/2018_December_App_1024x262.jpg\"/>"
      ],
      "text/plain": [
       "<IPython.core.display.Image object>"
      ]
     },
     "execution_count": 13,
     "metadata": {},
     "output_type": "execute_result"
    }
   ],
   "source": [
    "IPython.display.Image(url=r.json()[\"specialOffersBannerURL\"])"
   ]
  },
  {
   "cell_type": "code",
   "execution_count": 14,
   "metadata": {},
   "outputs": [
    {
     "data": {
      "text/html": [
       "<img src=\"http://static.meijer.com/mktg/web/mPerks/weekly/2018/1209/20181213_Hook_App.jpg\"/>"
      ],
      "text/plain": [
       "<IPython.core.display.Image object>"
      ]
     },
     "execution_count": 14,
     "metadata": {},
     "output_type": "execute_result"
    }
   ],
   "source": [
    "IPython.display.Image(url=r.json()[\"topBanner\"][\"bannerURL\"])"
   ]
  }
 ],
 "metadata": {
  "kernelspec": {
   "display_name": "Python 3",
   "language": "python",
   "name": "python3"
  },
  "language_info": {
   "codemirror_mode": {
    "name": "ipython",
    "version": 3
   },
   "file_extension": ".py",
   "mimetype": "text/x-python",
   "name": "python",
   "nbconvert_exporter": "python",
   "pygments_lexer": "ipython3",
   "version": "3.7.3"
  }
 },
 "nbformat": 4,
 "nbformat_minor": 2
}
