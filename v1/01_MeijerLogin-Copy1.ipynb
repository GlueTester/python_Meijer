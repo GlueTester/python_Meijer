{
 "cells": [
  {
   "cell_type": "markdown",
   "metadata": {},
   "source": [
    "# 01. Login to the Meijer 'App'\n",
    "\n",
    "Mimic the events that happen after clicking \"SIGN IN\".\n",
    "\n",
    "Meijer username and password are stored in `auth` file."
   ]
  },
  {
   "cell_type": "code",
   "execution_count": 1,
   "metadata": {},
   "outputs": [],
   "source": [
    "import os\n",
    "import requests\n",
    "import base64"
   ]
  },
  {
   "cell_type": "code",
   "execution_count": 2,
   "metadata": {},
   "outputs": [],
   "source": [
    "# Generate the Authorization string from account_services_secret\n",
    "account_services_secret=\"drAqas76Re7RekeBanaMaNEMah7paDE5\"\n",
    "AUTH=base64.encodebytes(\"mma:{}\".format(account_services_secret).encode(\"UTF-8\")).decode(\"UTF-8\").strip()"
   ]
  },
  {
   "cell_type": "code",
   "execution_count": 3,
   "metadata": {},
   "outputs": [],
   "source": [
    "with open(\"auth\", \"r\") as fid:\n",
    "    meijer_user, meijer_pass, meijer_accountid = fid.read().splitlines()"
   ]
  },
  {
   "cell_type": "code",
   "execution_count": 4,
   "metadata": {},
   "outputs": [],
   "source": [
    "s = requests.Session()"
   ]
  },
  {
   "cell_type": "code",
   "execution_count": 5,
   "metadata": {},
   "outputs": [],
   "source": [
    "request=dict()\n",
    "request[\"url\"] = \"https://login.meijer.com/as/token.oauth2\"\n",
    "request[\"headers\"] = {\n",
    "    'Authorization': 'Basic {}'.format(AUTH),\n",
    "    'Platform': 'Android',\n",
    "    'Version': '5.10.0',\n",
    "    'Build': '51000000',\n",
    "    'User-Agent': 'okhttp/3.8.0'\n",
    "}\n",
    "request[\"params\"] =  {\n",
    "    'grant_type': 'password',\n",
    "    'scope': 'openid',\n",
    "    \"username\": meijer_user,\n",
    "    \"password\": meijer_pass,\n",
    "}\n",
    "r = s.post(**request)\n",
    "assert r.status_code==200"
   ]
  },
  {
   "cell_type": "code",
   "execution_count": 6,
   "metadata": {},
   "outputs": [],
   "source": [
    "access_token=r.json()[\"access_token\"]"
   ]
  },
  {
   "cell_type": "markdown",
   "metadata": {},
   "source": [
    "TODO: Figure out how the App knows what the account ID is before this URL is called. Looking at the cookies and response data nothing apparent jumped out. So it's probably some ```base64``` string burried in the ```access_token``` or something."
   ]
  },
  {
   "cell_type": "code",
   "execution_count": null,
   "metadata": {},
   "outputs": [],
   "source": [
    "access_token"
   ]
  },
  {
   "cell_type": "code",
   "execution_count": null,
   "metadata": {},
   "outputs": [],
   "source": [
    "request=dict()\n",
    "request[\"url\"] = \"https://mservices.meijer.com/dgtlmma/accounts/getAccount?id={}\".format(meijer_accountid)\n",
    "request[\"headers\"] = {\n",
    "    'Accept': 'application/vnd.meijer.account.account-v1.0+json',\n",
    "    'Authorization': 'Bearer {}'.format(access_token),\n",
    "    'Content-Type': 'application/json',\n",
    "    'Platform': 'Android',\n",
    "    'Version': '5.10.0',\n",
    "    'Build': '51000000',\n",
    "    'User-Agent': 'okhttp/3.8.0'\n",
    "}\n",
    "r = s.get(**request)\n",
    "r"
   ]
  },
  {
   "cell_type": "code",
   "execution_count": null,
   "metadata": {},
   "outputs": [],
   "source": [
    "assert r.status_code==200\n",
    "r.json().keys()"
   ]
  },
  {
   "cell_type": "code",
   "execution_count": null,
   "metadata": {},
   "outputs": [],
   "source": []
  }
 ],
 "metadata": {
  "kernelspec": {
   "display_name": "Python 3",
   "language": "python",
   "name": "python3"
  },
  "language_info": {
   "codemirror_mode": {
    "name": "ipython",
    "version": 3
   },
   "file_extension": ".py",
   "mimetype": "text/x-python",
   "name": "python",
   "nbconvert_exporter": "python",
   "pygments_lexer": "ipython3",
   "version": "3.7.3"
  }
 },
 "nbformat": 4,
 "nbformat_minor": 2
}
