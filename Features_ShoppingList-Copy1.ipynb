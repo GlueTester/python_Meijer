{
 "cells": [
  {
   "cell_type": "code",
   "execution_count": 1,
   "metadata": {},
   "outputs": [],
   "source": [
    "%load_ext autoreload\n",
    "%autoreload 2\n",
    "from meijer import Meijer"
   ]
  },
  {
   "cell_type": "code",
   "execution_count": 2,
   "metadata": {},
   "outputs": [],
   "source": [
    "m = Meijer()\n",
    "self = m"
   ]
  },
  {
   "cell_type": "code",
   "execution_count": 3,
   "metadata": {},
   "outputs": [],
   "source": [
    "def get_list(self):\n",
    "    request = dict()\n",
    "    request[\"url\"] = \"https://mservices.meijer.com/listmanagement/api/list\"\n",
    "    request[\"headers\"] = {\n",
    "        \"Accept\": \"application/meijer.shoppingList.ShoppingList-v1.0+json\",\n",
    "    }\n",
    "    r = self.get(**request)\n",
    "    return r"
   ]
  },
  {
   "cell_type": "code",
   "execution_count": 4,
   "metadata": {},
   "outputs": [],
   "source": [
    "def get_favorites(self):\n",
    "    request = dict()\n",
    "    request[\"url\"] = \"https://mservices.meijer.com/listmanagement/api/favorites\"\n",
    "    request[\"headers\"] = {\n",
    "        \"Accept\": \"application/vnd.meijer.favorites-v1.0+json\",\n",
    "    }\n",
    "    r = self.get(**request)\n",
    "    return r"
   ]
  },
  {
   "cell_type": "code",
   "execution_count": 5,
   "metadata": {},
   "outputs": [
    {
     "data": {
      "text/plain": [
       "{'listId': 0,\n",
       " 'listName': 'favorite list items for mPerks Web and Mobile',\n",
       " 'listTypeId': 2,\n",
       " 'totalCount': 0,\n",
       " 'favoriteListItems': []}"
      ]
     },
     "execution_count": 5,
     "metadata": {},
     "output_type": "execute_result"
    }
   ],
   "source": [
    "r = get_favorites(self)\n",
    "r"
   ]
  },
  {
   "cell_type": "code",
   "execution_count": 6,
   "metadata": {},
   "outputs": [],
   "source": [
    "r = get_list(self)"
   ]
  },
  {
   "cell_type": "code",
   "execution_count": 7,
   "metadata": {},
   "outputs": [
    {
     "data": {
      "text/plain": [
       "{'listId': 14941634,\n",
       " 'listName': 'Meijer Shopping List for mPerks Web and Mobile',\n",
       " 'listTypeId': 1,\n",
       " 'totalCount': 4,\n",
       " 'listItems': [{'listItemId': 143857098,\n",
       "   'listItemTypeId': 1,\n",
       "   'itemDisplayOrder': 4,\n",
       "   'itemPartNumber': '',\n",
       "   'itemDescription': 'Hello World',\n",
       "   'quantity': 3,\n",
       "   'storeId': None,\n",
       "   'notes': '',\n",
       "   'couponId': None,\n",
       "   'isComplete': False,\n",
       "   'isFavorite': False,\n",
       "   'listingId': None,\n",
       "   'promotionEnd': None,\n",
       "   'promotionStart': None},\n",
       "  {'listItemId': 143856525,\n",
       "   'listItemTypeId': 1,\n",
       "   'itemDisplayOrder': 3,\n",
       "   'itemPartNumber': '',\n",
       "   'itemDescription': 'added item',\n",
       "   'quantity': 1,\n",
       "   'storeId': None,\n",
       "   'notes': '',\n",
       "   'couponId': None,\n",
       "   'isComplete': False,\n",
       "   'isFavorite': False,\n",
       "   'listingId': None,\n",
       "   'promotionEnd': None,\n",
       "   'promotionStart': None},\n",
       "  {'listItemId': 143840384,\n",
       "   'listItemTypeId': 1,\n",
       "   'itemDisplayOrder': 2,\n",
       "   'itemPartNumber': '',\n",
       "   'itemDescription': 'goo',\n",
       "   'quantity': 1,\n",
       "   'storeId': None,\n",
       "   'notes': '',\n",
       "   'couponId': None,\n",
       "   'isComplete': False,\n",
       "   'isFavorite': False,\n",
       "   'listingId': None,\n",
       "   'promotionEnd': None,\n",
       "   'promotionStart': None},\n",
       "  {'listItemId': 143812260,\n",
       "   'listItemTypeId': 1,\n",
       "   'itemDisplayOrder': 1,\n",
       "   'itemPartNumber': '',\n",
       "   'itemDescription': '@#$%&-+()',\n",
       "   'quantity': 1,\n",
       "   'storeId': None,\n",
       "   'notes': '',\n",
       "   'couponId': None,\n",
       "   'isComplete': False,\n",
       "   'isFavorite': False,\n",
       "   'listingId': None,\n",
       "   'promotionEnd': None,\n",
       "   'promotionStart': None}]}"
      ]
     },
     "execution_count": 7,
     "metadata": {},
     "output_type": "execute_result"
    }
   ],
   "source": [
    "r"
   ]
  },
  {
   "cell_type": "code",
   "execution_count": 47,
   "metadata": {},
   "outputs": [],
   "source": [
    "def list_add(self, description):\n",
    "    request = dict()\n",
    "    request[\"url\"] = \"https://mservices.meijer.com/listmanagement/api/list\"\n",
    "    request[\"headers\"] = {\n",
    "        \"Accept\": \"application/vnd.meijer.listManagement.list-v1.0+json\",\n",
    "        \"Content-Type\": \"application/vnd.meijer.listManagement.list-v1.0+json\",\n",
    "    }\n",
    "    request[\"json\"] = {'listItems': [{\n",
    "   'itemDescription': description,\n",
    "   'quantity': 1,\n",
    "    }]}\n",
    "    r = self.post(**request)\n",
    "    return r"
   ]
  },
  {
   "cell_type": "code",
   "execution_count": 48,
   "metadata": {},
   "outputs": [
    {
     "data": {
      "text/plain": [
       "{'updateConfirmations': [{'listItemId': 143859148,\n",
       "   'listItemTypeId': 1,\n",
       "   'itemDisplayOrder': 8,\n",
       "   'itemPartNumber': '',\n",
       "   'itemDescription': 'FooBaz100',\n",
       "   'quantity': 1,\n",
       "   'storeId': None,\n",
       "   'notes': '',\n",
       "   'couponId': None,\n",
       "   'isComplete': False,\n",
       "   'isFavorite': False,\n",
       "   'listingId': None,\n",
       "   'promotionEnd': None,\n",
       "   'promotionStart': None}]}"
      ]
     },
     "execution_count": 48,
     "metadata": {},
     "output_type": "execute_result"
    }
   ],
   "source": [
    "list_add(self, \"FooBaz100\")"
   ]
  },
  {
   "cell_type": "code",
   "execution_count": 9,
   "metadata": {},
   "outputs": [],
   "source": [
    "for i in range(10):\n",
    "    list_add(self, f\"Hello World {str(i)}\")"
   ]
  },
  {
   "cell_type": "code",
   "execution_count": 11,
   "metadata": {},
   "outputs": [],
   "source": [
    "import json"
   ]
  },
  {
   "cell_type": "code",
   "execution_count": 16,
   "metadata": {},
   "outputs": [],
   "source": [
    "for list_item in r[\"listItems\"]:\n",
    "    break"
   ]
  },
  {
   "cell_type": "code",
   "execution_count": null,
   "metadata": {},
   "outputs": [],
   "source": []
  },
  {
   "cell_type": "code",
   "execution_count": 18,
   "metadata": {},
   "outputs": [],
   "source": [
    "def list_complete(self, item_id):\n",
    "    request = dict()\n",
    "    request[\"url\"] = f\"https://mservices.meijer.com/listmanagement/api/listItem/markascompleted/{item_id}\"\n",
    "    request[\"headers\"] = {\n",
    "        \"Accept\": \"application/vnd.meijer.listManagement.list-v1.0+json\",\n",
    "        \"Content-Type\": \"application/vnd.meijer.listManagement.list-v1.0+json\",\n",
    "    }\n",
    "    r = self.session.put(**request)\n",
    "    return r"
   ]
  },
  {
   "cell_type": "code",
   "execution_count": 19,
   "metadata": {},
   "outputs": [],
   "source": [
    "def list_uncomplete(self, item_id):\n",
    "    request = dict()\n",
    "    request[\"url\"] = f\"https://mservices.meijer.com/listmanagement/api/listItem/markasnotcompleted/{item_id}\"\n",
    "    request[\"headers\"] = {\n",
    "        \"Accept\": \"application/vnd.meijer.listManagement.list-v1.0+json\",\n",
    "        \"Content-Type\": \"application/vnd.meijer.listManagement.list-v1.0+json\",\n",
    "    }\n",
    "    r = self.session.put(**request)\n",
    "    return r"
   ]
  },
  {
   "cell_type": "code",
   "execution_count": 49,
   "metadata": {},
   "outputs": [],
   "source": [
    "list_ = get_list(self)"
   ]
  },
  {
   "cell_type": "code",
   "execution_count": 54,
   "metadata": {},
   "outputs": [],
   "source": [
    "for item in list_[\"listItems\"]:\n",
    "    list_complete(self, item[\"listItemId\"])"
   ]
  },
  {
   "cell_type": "code",
   "execution_count": 65,
   "metadata": {},
   "outputs": [],
   "source": [
    "class MeijerList(object):\n",
    "    \"\"\"Meijer Shopping List.\"\"\"\n",
    "    def __init__(self, meijer=None):\n",
    "        if meijer is None:\n",
    "            self.meijer=Meijer()\n",
    "        else:\n",
    "            self.meijer=meijer\n",
    "        \n",
    "    def get(self):\n",
    "        request = dict()\n",
    "        request[\"url\"] = \"https://mservices.meijer.com/listmanagement/api/list\"\n",
    "        request[\"headers\"] = {\n",
    "            \"Accept\": \"application/meijer.shoppingList.ShoppingList-v1.0+json\",\n",
    "        }\n",
    "        r = self.meijer.get(**request)\n",
    "        return r\n",
    "    \n",
    "    def add(self, description):\n",
    "        request = dict()\n",
    "        request[\"url\"] = \"https://mservices.meijer.com/listmanagement/api/list\"\n",
    "        request[\"headers\"] = {\n",
    "            \"Accept\": \"application/vnd.meijer.listManagement.list-v1.0+json\",\n",
    "            \"Content-Type\": \"application/vnd.meijer.listManagement.list-v1.0+json\",\n",
    "        }\n",
    "        request[\"json\"] = {'listItems': [{\n",
    "       'itemDescription': description,\n",
    "       'quantity': 1,\n",
    "        }]}\n",
    "        r = self.post(**request)\n",
    "        return r\n",
    "    \n",
    "    def complete(self, item: [dict, int]):\n",
    "        if isinstance(item, dict) and \"listItemId\" in item:\n",
    "            listItemId = item[\"listItemId\"]\n",
    "        elif isinstance(item, int):\n",
    "            listItemId = item\n",
    "        request = dict()\n",
    "        request[\"url\"] = f\"https://mservices.meijer.com/listmanagement/api/listItem/markascompleted/{listItemId}\"\n",
    "        request[\"headers\"] = {\n",
    "            \"Accept\": \"application/vnd.meijer.listManagement.list-v1.0+json\",\n",
    "            \"Content-Type\": \"application/vnd.meijer.listManagement.list-v1.0+json\",\n",
    "        }\n",
    "        r = self.meijer.put(**request)\n",
    "        return r\n",
    "\n",
    "    def uncomplete(self, item: [dict, int]):\n",
    "        if isinstance(item, dict) and \"listItemId\" in item:\n",
    "            listItemId = item[\"listItemId\"]\n",
    "        elif isinstance(item, int):\n",
    "            listItemId = item\n",
    "        request = dict()\n",
    "        request[\"url\"] = f\"https://mservices.meijer.com/listmanagement/api/listItem/markasnotcompleted/{listItemId}\"\n",
    "        request[\"headers\"] = {\n",
    "            \"Accept\": \"application/vnd.meijer.listManagement.list-v1.0+json\",\n",
    "            \"Content-Type\": \"application/vnd.meijer.listManagement.list-v1.0+json\",\n",
    "        }\n",
    "        r = self.meijer.put(**request)\n",
    "        return r\n",
    "    \n",
    "    @property\n",
    "    def items(self):\n",
    "        return self.get()[\"listItems\"]\n",
    "\n",
    "    @property\n",
    "    def count(self):\n",
    "        r = self.get()\n",
    "        assert r[\"totalCount\"] == len(r[\"listItems\"])\n",
    "        return r[\"totalCount\"]"
   ]
  },
  {
   "cell_type": "code",
   "execution_count": 66,
   "metadata": {},
   "outputs": [],
   "source": [
    "shopping_list = MeijerList(meijer=self)"
   ]
  },
  {
   "cell_type": "code",
   "execution_count": 67,
   "metadata": {},
   "outputs": [
    {
     "ename": "AttributeError",
     "evalue": "'Meijer' object has no attribute 'put'",
     "output_type": "error",
     "traceback": [
      "\u001b[0;31m---------------------------------------------------------------------------\u001b[0m",
      "\u001b[0;31mAttributeError\u001b[0m                            Traceback (most recent call last)",
      "\u001b[0;32m<ipython-input-67-24316de5ed12>\u001b[0m in \u001b[0;36m<module>\u001b[0;34m\u001b[0m\n\u001b[1;32m      1\u001b[0m \u001b[0;32mfor\u001b[0m \u001b[0mitem\u001b[0m \u001b[0;32min\u001b[0m \u001b[0mshopping_list\u001b[0m\u001b[0;34m.\u001b[0m\u001b[0mitems\u001b[0m\u001b[0;34m:\u001b[0m\u001b[0;34m\u001b[0m\u001b[0;34m\u001b[0m\u001b[0m\n\u001b[0;32m----> 2\u001b[0;31m     \u001b[0mshopping_list\u001b[0m\u001b[0;34m.\u001b[0m\u001b[0muncomplete\u001b[0m\u001b[0;34m(\u001b[0m\u001b[0mitem\u001b[0m\u001b[0;34m)\u001b[0m\u001b[0;34m\u001b[0m\u001b[0;34m\u001b[0m\u001b[0m\n\u001b[0m",
      "\u001b[0;32m<ipython-input-65-e03817c71731>\u001b[0m in \u001b[0;36muncomplete\u001b[0;34m(self, item)\u001b[0m\n\u001b[1;32m     55\u001b[0m             \u001b[0;34m\"Content-Type\"\u001b[0m\u001b[0;34m:\u001b[0m \u001b[0;34m\"application/vnd.meijer.listManagement.list-v1.0+json\"\u001b[0m\u001b[0;34m,\u001b[0m\u001b[0;34m\u001b[0m\u001b[0;34m\u001b[0m\u001b[0m\n\u001b[1;32m     56\u001b[0m         }\n\u001b[0;32m---> 57\u001b[0;31m         \u001b[0mr\u001b[0m \u001b[0;34m=\u001b[0m \u001b[0mself\u001b[0m\u001b[0;34m.\u001b[0m\u001b[0mmeijer\u001b[0m\u001b[0;34m.\u001b[0m\u001b[0mput\u001b[0m\u001b[0;34m(\u001b[0m\u001b[0;34m**\u001b[0m\u001b[0mrequest\u001b[0m\u001b[0;34m)\u001b[0m\u001b[0;34m\u001b[0m\u001b[0;34m\u001b[0m\u001b[0m\n\u001b[0m\u001b[1;32m     58\u001b[0m         \u001b[0;32mreturn\u001b[0m \u001b[0mr\u001b[0m\u001b[0;34m\u001b[0m\u001b[0;34m\u001b[0m\u001b[0m\n\u001b[1;32m     59\u001b[0m \u001b[0;34m\u001b[0m\u001b[0m\n",
      "\u001b[0;31mAttributeError\u001b[0m: 'Meijer' object has no attribute 'put'"
     ]
    }
   ],
   "source": [
    "for item in shopping_list.items:\n",
    "    shopping_list.uncomplete(item)"
   ]
  },
  {
   "cell_type": "code",
   "execution_count": 56,
   "metadata": {},
   "outputs": [
    {
     "data": {
      "text/plain": [
       "{'listId': 14941634,\n",
       " 'listName': 'Meijer Shopping List for mPerks Web and Mobile',\n",
       " 'listTypeId': 1,\n",
       " 'totalCount': 17,\n",
       " 'listItems': [{'listItemId': 143856525,\n",
       "   'listItemTypeId': 1,\n",
       "   'itemDisplayOrder': 0,\n",
       "   'itemPartNumber': '',\n",
       "   'itemDescription': 'added item',\n",
       "   'quantity': 1,\n",
       "   'storeId': None,\n",
       "   'notes': '',\n",
       "   'couponId': None,\n",
       "   'isComplete': True,\n",
       "   'isFavorite': False,\n",
       "   'listingId': None,\n",
       "   'promotionEnd': None,\n",
       "   'promotionStart': None},\n",
       "  {'listItemId': 143812260,\n",
       "   'listItemTypeId': 1,\n",
       "   'itemDisplayOrder': 0,\n",
       "   'itemPartNumber': '',\n",
       "   'itemDescription': '@#$%&-+()',\n",
       "   'quantity': 1,\n",
       "   'storeId': None,\n",
       "   'notes': '',\n",
       "   'couponId': None,\n",
       "   'isComplete': True,\n",
       "   'isFavorite': False,\n",
       "   'listingId': None,\n",
       "   'promotionEnd': None,\n",
       "   'promotionStart': None},\n",
       "  {'listItemId': 143840384,\n",
       "   'listItemTypeId': 1,\n",
       "   'itemDisplayOrder': 0,\n",
       "   'itemPartNumber': '',\n",
       "   'itemDescription': 'goo',\n",
       "   'quantity': 1,\n",
       "   'storeId': None,\n",
       "   'notes': '',\n",
       "   'couponId': None,\n",
       "   'isComplete': True,\n",
       "   'isFavorite': False,\n",
       "   'listingId': None,\n",
       "   'promotionEnd': None,\n",
       "   'promotionStart': None},\n",
       "  {'listItemId': 143857098,\n",
       "   'listItemTypeId': 1,\n",
       "   'itemDisplayOrder': 0,\n",
       "   'itemPartNumber': '',\n",
       "   'itemDescription': 'Hello World',\n",
       "   'quantity': 3,\n",
       "   'storeId': None,\n",
       "   'notes': '',\n",
       "   'couponId': None,\n",
       "   'isComplete': True,\n",
       "   'isFavorite': False,\n",
       "   'listingId': None,\n",
       "   'promotionEnd': None,\n",
       "   'promotionStart': None},\n",
       "  {'listItemId': 143857405,\n",
       "   'listItemTypeId': 1,\n",
       "   'itemDisplayOrder': 0,\n",
       "   'itemPartNumber': '',\n",
       "   'itemDescription': 'Hello World 0',\n",
       "   'quantity': 1,\n",
       "   'storeId': None,\n",
       "   'notes': '',\n",
       "   'couponId': None,\n",
       "   'isComplete': True,\n",
       "   'isFavorite': False,\n",
       "   'listingId': None,\n",
       "   'promotionEnd': None,\n",
       "   'promotionStart': None},\n",
       "  {'listItemId': 143859087,\n",
       "   'listItemTypeId': 1,\n",
       "   'itemDisplayOrder': 0,\n",
       "   'itemPartNumber': '',\n",
       "   'itemDescription': 'FooBaz',\n",
       "   'quantity': 1,\n",
       "   'storeId': None,\n",
       "   'notes': '',\n",
       "   'couponId': None,\n",
       "   'isComplete': True,\n",
       "   'isFavorite': False,\n",
       "   'listingId': None,\n",
       "   'promotionEnd': None,\n",
       "   'promotionStart': None},\n",
       "  {'listItemId': 143859131,\n",
       "   'listItemTypeId': 1,\n",
       "   'itemDisplayOrder': 0,\n",
       "   'itemPartNumber': '',\n",
       "   'itemDescription': 'FooBaz4',\n",
       "   'quantity': 1,\n",
       "   'storeId': None,\n",
       "   'notes': '',\n",
       "   'couponId': None,\n",
       "   'isComplete': True,\n",
       "   'isFavorite': False,\n",
       "   'listingId': None,\n",
       "   'promotionEnd': None,\n",
       "   'promotionStart': None},\n",
       "  {'listItemId': 143859148,\n",
       "   'listItemTypeId': 1,\n",
       "   'itemDisplayOrder': 0,\n",
       "   'itemPartNumber': '',\n",
       "   'itemDescription': 'FooBaz100',\n",
       "   'quantity': 1,\n",
       "   'storeId': None,\n",
       "   'notes': '',\n",
       "   'couponId': None,\n",
       "   'isComplete': True,\n",
       "   'isFavorite': False,\n",
       "   'listingId': None,\n",
       "   'promotionEnd': None,\n",
       "   'promotionStart': None},\n",
       "  {'listItemId': 143857410,\n",
       "   'listItemTypeId': 1,\n",
       "   'itemDisplayOrder': 0,\n",
       "   'itemPartNumber': '',\n",
       "   'itemDescription': 'Hello World 3',\n",
       "   'quantity': 1,\n",
       "   'storeId': None,\n",
       "   'notes': '',\n",
       "   'couponId': None,\n",
       "   'isComplete': True,\n",
       "   'isFavorite': False,\n",
       "   'listingId': None,\n",
       "   'promotionEnd': None,\n",
       "   'promotionStart': None},\n",
       "  {'listItemId': 143857406,\n",
       "   'listItemTypeId': 1,\n",
       "   'itemDisplayOrder': 0,\n",
       "   'itemPartNumber': '',\n",
       "   'itemDescription': 'Hello World 1',\n",
       "   'quantity': 1,\n",
       "   'storeId': None,\n",
       "   'notes': '',\n",
       "   'couponId': None,\n",
       "   'isComplete': True,\n",
       "   'isFavorite': False,\n",
       "   'listingId': None,\n",
       "   'promotionEnd': None,\n",
       "   'promotionStart': None},\n",
       "  {'listItemId': 143857411,\n",
       "   'listItemTypeId': 1,\n",
       "   'itemDisplayOrder': 0,\n",
       "   'itemPartNumber': '',\n",
       "   'itemDescription': 'Hello World 4',\n",
       "   'quantity': 1,\n",
       "   'storeId': None,\n",
       "   'notes': '',\n",
       "   'couponId': None,\n",
       "   'isComplete': True,\n",
       "   'isFavorite': False,\n",
       "   'listingId': None,\n",
       "   'promotionEnd': None,\n",
       "   'promotionStart': None},\n",
       "  {'listItemId': 143857407,\n",
       "   'listItemTypeId': 1,\n",
       "   'itemDisplayOrder': 0,\n",
       "   'itemPartNumber': '',\n",
       "   'itemDescription': 'Hello World 2',\n",
       "   'quantity': 1,\n",
       "   'storeId': None,\n",
       "   'notes': '',\n",
       "   'couponId': None,\n",
       "   'isComplete': True,\n",
       "   'isFavorite': False,\n",
       "   'listingId': None,\n",
       "   'promotionEnd': None,\n",
       "   'promotionStart': None},\n",
       "  {'listItemId': 143857414,\n",
       "   'listItemTypeId': 1,\n",
       "   'itemDisplayOrder': 0,\n",
       "   'itemPartNumber': '',\n",
       "   'itemDescription': 'Hello World 6',\n",
       "   'quantity': 1,\n",
       "   'storeId': None,\n",
       "   'notes': '',\n",
       "   'couponId': None,\n",
       "   'isComplete': True,\n",
       "   'isFavorite': False,\n",
       "   'listingId': None,\n",
       "   'promotionEnd': None,\n",
       "   'promotionStart': None},\n",
       "  {'listItemId': 143857412,\n",
       "   'listItemTypeId': 1,\n",
       "   'itemDisplayOrder': 0,\n",
       "   'itemPartNumber': '',\n",
       "   'itemDescription': 'Hello World 5',\n",
       "   'quantity': 1,\n",
       "   'storeId': None,\n",
       "   'notes': '',\n",
       "   'couponId': None,\n",
       "   'isComplete': True,\n",
       "   'isFavorite': False,\n",
       "   'listingId': None,\n",
       "   'promotionEnd': None,\n",
       "   'promotionStart': None},\n",
       "  {'listItemId': 143857415,\n",
       "   'listItemTypeId': 1,\n",
       "   'itemDisplayOrder': 0,\n",
       "   'itemPartNumber': '',\n",
       "   'itemDescription': 'Hello World 7',\n",
       "   'quantity': 1,\n",
       "   'storeId': None,\n",
       "   'notes': '',\n",
       "   'couponId': None,\n",
       "   'isComplete': True,\n",
       "   'isFavorite': False,\n",
       "   'listingId': None,\n",
       "   'promotionEnd': None,\n",
       "   'promotionStart': None},\n",
       "  {'listItemId': 143857416,\n",
       "   'listItemTypeId': 1,\n",
       "   'itemDisplayOrder': 0,\n",
       "   'itemPartNumber': '',\n",
       "   'itemDescription': 'Hello World 8',\n",
       "   'quantity': 1,\n",
       "   'storeId': None,\n",
       "   'notes': '',\n",
       "   'couponId': None,\n",
       "   'isComplete': True,\n",
       "   'isFavorite': False,\n",
       "   'listingId': None,\n",
       "   'promotionEnd': None,\n",
       "   'promotionStart': None},\n",
       "  {'listItemId': 143857418,\n",
       "   'listItemTypeId': 1,\n",
       "   'itemDisplayOrder': 0,\n",
       "   'itemPartNumber': '',\n",
       "   'itemDescription': 'Hello World 9',\n",
       "   'quantity': 1,\n",
       "   'storeId': None,\n",
       "   'notes': '',\n",
       "   'couponId': None,\n",
       "   'isComplete': True,\n",
       "   'isFavorite': False,\n",
       "   'listingId': None,\n",
       "   'promotionEnd': None,\n",
       "   'promotionStart': None}]}"
      ]
     },
     "execution_count": 56,
     "metadata": {},
     "output_type": "execute_result"
    }
   ],
   "source": [
    "shopping_list.get()"
   ]
  },
  {
   "cell_type": "code",
   "execution_count": 42,
   "metadata": {},
   "outputs": [
    {
     "data": {
      "text/plain": [
       "14"
      ]
     },
     "execution_count": 42,
     "metadata": {},
     "output_type": "execute_result"
    }
   ],
   "source": [
    "shopping_list.count"
   ]
  },
  {
   "cell_type": "code",
   "execution_count": 32,
   "metadata": {},
   "outputs": [],
   "source": [
    "l = shopping_list.get()"
   ]
  },
  {
   "cell_type": "code",
   "execution_count": 37,
   "metadata": {},
   "outputs": [
    {
     "data": {
      "text/plain": [
       "14"
      ]
     },
     "execution_count": 37,
     "metadata": {},
     "output_type": "execute_result"
    }
   ],
   "source": []
  },
  {
   "cell_type": "code",
   "execution_count": 38,
   "metadata": {},
   "outputs": [
    {
     "data": {
      "text/plain": [
       "14"
      ]
     },
     "execution_count": 38,
     "metadata": {},
     "output_type": "execute_result"
    }
   ],
   "source": []
  },
  {
   "cell_type": "code",
   "execution_count": null,
   "metadata": {},
   "outputs": [],
   "source": []
  }
 ],
 "metadata": {
  "kernelspec": {
   "display_name": "Python 3",
   "language": "python",
   "name": "python3"
  },
  "language_info": {
   "codemirror_mode": {
    "name": "ipython",
    "version": 3
   },
   "file_extension": ".py",
   "mimetype": "text/x-python",
   "name": "python",
   "nbconvert_exporter": "python",
   "pygments_lexer": "ipython3",
   "version": "3.7.3"
  }
 },
 "nbformat": 4,
 "nbformat_minor": 2
}
