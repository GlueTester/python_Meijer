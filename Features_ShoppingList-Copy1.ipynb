{
 "cells": [
  {
   "cell_type": "code",
   "execution_count": null,
   "metadata": {},
   "outputs": [],
   "source": [
    "%load_ext autoreload\n",
    "%autoreload 2\n",
    "from meijer import Meijer"
   ]
  },
  {
   "cell_type": "code",
   "execution_count": null,
   "metadata": {},
   "outputs": [],
   "source": [
    "m = Meijer()\n",
    "self = m"
   ]
  },
  {
   "cell_type": "code",
   "execution_count": null,
   "metadata": {},
   "outputs": [],
   "source": [
    "def get_list(self):\n",
    "    request = dict()\n",
    "    request[\"url\"] = \"https://mservices.meijer.com/listmanagement/api/list\"\n",
    "    request[\"headers\"] = {\n",
    "        \"Accept\": \"application/meijer.shoppingList.ShoppingList-v1.0+json\",\n",
    "    }\n",
    "    r = self.get(**request)\n",
    "    return r"
   ]
  },
  {
   "cell_type": "code",
   "execution_count": null,
   "metadata": {},
   "outputs": [],
   "source": [
    "def get_favorites(self):\n",
    "    request = dict()\n",
    "    request[\"url\"] = \"https://mservices.meijer.com/listmanagement/api/favorites\"\n",
    "    request[\"headers\"] = {\n",
    "        \"Accept\": \"application/vnd.meijer.favorites-v1.0+json\",\n",
    "    }\n",
    "    r = self.get(**request)\n",
    "    return r"
   ]
  },
  {
   "cell_type": "code",
   "execution_count": null,
   "metadata": {},
   "outputs": [],
   "source": [
    "r = get_favorites(self)\n",
    "r"
   ]
  },
  {
   "cell_type": "code",
   "execution_count": null,
   "metadata": {},
   "outputs": [],
   "source": [
    "r = get_list(self)"
   ]
  },
  {
   "cell_type": "code",
   "execution_count": null,
   "metadata": {},
   "outputs": [],
   "source": [
    "r"
   ]
  },
  {
   "cell_type": "code",
   "execution_count": null,
   "metadata": {},
   "outputs": [],
   "source": [
    "def list_add(self, description):\n",
    "    request = dict()\n",
    "    request[\"url\"] = \"https://mservices.meijer.com/listmanagement/api/list\"\n",
    "    request[\"headers\"] = {\n",
    "        \"Accept\": \"application/vnd.meijer.listManagement.list-v1.0+json\",\n",
    "        \"Content-Type\": \"application/vnd.meijer.listManagement.list-v1.0+json\",\n",
    "    }\n",
    "    request[\"json\"] = {'listItems': [{\n",
    "   'itemDescription': description,\n",
    "   'quantity': 1,\n",
    "    }]}\n",
    "    r = self.post(**request)\n",
    "    return r"
   ]
  },
  {
   "cell_type": "code",
   "execution_count": null,
   "metadata": {},
   "outputs": [],
   "source": [
    "list_add(self, \"FooBaz100\")"
   ]
  },
  {
   "cell_type": "code",
   "execution_count": null,
   "metadata": {},
   "outputs": [],
   "source": [
    "for i in range(10):\n",
    "    list_add(self, f\"Hello World {str(i)}\")"
   ]
  },
  {
   "cell_type": "code",
   "execution_count": null,
   "metadata": {},
   "outputs": [],
   "source": [
    "import json"
   ]
  },
  {
   "cell_type": "code",
   "execution_count": null,
   "metadata": {},
   "outputs": [],
   "source": [
    "for list_item in r[\"listItems\"]:\n",
    "    break"
   ]
  },
  {
   "cell_type": "code",
   "execution_count": null,
   "metadata": {},
   "outputs": [],
   "source": []
  },
  {
   "cell_type": "code",
   "execution_count": null,
   "metadata": {},
   "outputs": [],
   "source": [
    "def list_complete(self, item_id):\n",
    "    request = dict()\n",
    "    request[\"url\"] = f\"https://mservices.meijer.com/listmanagement/api/listItem/markascompleted/{item_id}\"\n",
    "    request[\"headers\"] = {\n",
    "        \"Accept\": \"application/vnd.meijer.listManagement.list-v1.0+json\",\n",
    "        \"Content-Type\": \"application/vnd.meijer.listManagement.list-v1.0+json\",\n",
    "    }\n",
    "    r = self.session.put(**request)\n",
    "    return r"
   ]
  },
  {
   "cell_type": "code",
   "execution_count": null,
   "metadata": {},
   "outputs": [],
   "source": [
    "def list_uncomplete(self, item_id):\n",
    "    request = dict()\n",
    "    request[\"url\"] = f\"https://mservices.meijer.com/listmanagement/api/listItem/markasnotcompleted/{item_id}\"\n",
    "    request[\"headers\"] = {\n",
    "        \"Accept\": \"application/vnd.meijer.listManagement.list-v1.0+json\",\n",
    "        \"Content-Type\": \"application/vnd.meijer.listManagement.list-v1.0+json\",\n",
    "    }\n",
    "    r = self.session.put(**request)\n",
    "    return r"
   ]
  },
  {
   "cell_type": "code",
   "execution_count": null,
   "metadata": {},
   "outputs": [],
   "source": [
    "list_ = get_list(self)"
   ]
  },
  {
   "cell_type": "code",
   "execution_count": null,
   "metadata": {},
   "outputs": [],
   "source": [
    "for item in list_[\"listItems\"]:\n",
    "    list_complete(self, item[\"listItemId\"])"
   ]
  },
  {
   "cell_type": "code",
   "execution_count": null,
   "metadata": {},
   "outputs": [],
   "source": [
    "class MeijerList(object):\n",
    "    \"\"\"Meijer Shopping List.\"\"\"\n",
    "    def __init__(self, meijer=None):\n",
    "        if meijer is None:\n",
    "            self.meijer=Meijer()\n",
    "        else:\n",
    "            self.meijer=meijer\n",
    "        \n",
    "    def get(self):\n",
    "        request = dict()\n",
    "        request[\"url\"] = \"https://mservices.meijer.com/listmanagement/api/list\"\n",
    "        request[\"headers\"] = {\n",
    "            \"Accept\": \"application/meijer.shoppingList.ShoppingList-v1.0+json\",\n",
    "        }\n",
    "        r = self.meijer.get(**request)\n",
    "        return r\n",
    "    \n",
    "    def add(self, description):\n",
    "        request = dict()\n",
    "        request[\"url\"] = \"https://mservices.meijer.com/listmanagement/api/list\"\n",
    "        request[\"headers\"] = {\n",
    "            \"Accept\": \"application/vnd.meijer.listManagement.list-v1.0+json\",\n",
    "            \"Content-Type\": \"application/vnd.meijer.listManagement.list-v1.0+json\",\n",
    "        }\n",
    "        request[\"json\"] = {'listItems': [{\n",
    "       'itemDescription': description,\n",
    "       'quantity': 1,\n",
    "        }]}\n",
    "        r = self.post(**request)\n",
    "        return r\n",
    "    \n",
    "    def complete(self, item: [dict, int]):\n",
    "        if isinstance(item, dict) and \"listItemId\" in item:\n",
    "            listItemId = item[\"listItemId\"]\n",
    "        elif isinstance(item, int):\n",
    "            listItemId = item\n",
    "        request = dict()\n",
    "        request[\"url\"] = f\"https://mservices.meijer.com/listmanagement/api/listItem/markascompleted/{listItemId}\"\n",
    "        request[\"headers\"] = {\n",
    "            \"Accept\": \"application/vnd.meijer.listManagement.list-v1.0+json\",\n",
    "            \"Content-Type\": \"application/vnd.meijer.listManagement.list-v1.0+json\",\n",
    "        }\n",
    "        r = self.meijer.put(**request)\n",
    "        return r\n",
    "\n",
    "    def uncomplete(self, item: [dict, int]):\n",
    "        if isinstance(item, dict) and \"listItemId\" in item:\n",
    "            listItemId = item[\"listItemId\"]\n",
    "        elif isinstance(item, int):\n",
    "            listItemId = item\n",
    "        request = dict()\n",
    "        request[\"url\"] = f\"https://mservices.meijer.com/listmanagement/api/listItem/markasnotcompleted/{listItemId}\"\n",
    "        request[\"headers\"] = {\n",
    "            \"Accept\": \"application/vnd.meijer.listManagement.list-v1.0+json\",\n",
    "            \"Content-Type\": \"application/vnd.meijer.listManagement.list-v1.0+json\",\n",
    "        }\n",
    "        r = self.meijer.put(**request)\n",
    "        return r\n",
    "    \n",
    "    @property\n",
    "    def items(self):\n",
    "        return self.get()[\"listItems\"]\n",
    "\n",
    "    @property\n",
    "    def count(self):\n",
    "        r = self.get()\n",
    "        assert r[\"totalCount\"] == len(r[\"listItems\"])\n",
    "        return r[\"totalCount\"]"
   ]
  },
  {
   "cell_type": "code",
   "execution_count": null,
   "metadata": {},
   "outputs": [],
   "source": [
    "shopping_list = MeijerList(meijer=self)"
   ]
  },
  {
   "cell_type": "code",
   "execution_count": null,
   "metadata": {},
   "outputs": [],
   "source": [
    "for item in shopping_list.items:\n",
    "    shopping_list.uncomplete(item)"
   ]
  },
  {
   "cell_type": "code",
   "execution_count": null,
   "metadata": {},
   "outputs": [],
   "source": [
    "shopping_list.get()"
   ]
  },
  {
   "cell_type": "code",
   "execution_count": null,
   "metadata": {},
   "outputs": [],
   "source": [
    "shopping_list.count"
   ]
  },
  {
   "cell_type": "code",
   "execution_count": null,
   "metadata": {},
   "outputs": [],
   "source": [
    "l = shopping_list.get()"
   ]
  },
  {
   "cell_type": "code",
   "execution_count": null,
   "metadata": {},
   "outputs": [],
   "source": []
  },
  {
   "cell_type": "code",
   "execution_count": null,
   "metadata": {},
   "outputs": [],
   "source": []
  },
  {
   "cell_type": "code",
   "execution_count": null,
   "metadata": {},
   "outputs": [],
   "source": []
  }
 ],
 "metadata": {
  "kernelspec": {
   "display_name": "Python 3",
   "language": "python",
   "name": "python3"
  },
  "language_info": {
   "codemirror_mode": {
    "name": "ipython",
    "version": 3
   },
   "file_extension": ".py",
   "mimetype": "text/x-python",
   "name": "python",
   "nbconvert_exporter": "python",
   "pygments_lexer": "ipython3",
   "version": "3.7.3"
  }
 },
 "nbformat": 4,
 "nbformat_minor": 2
}
