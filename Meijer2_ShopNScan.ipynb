{
 "cells": [
  {
   "cell_type": "code",
   "execution_count": 1,
   "metadata": {},
   "outputs": [],
   "source": [
    "import os\n",
    "import requests\n",
    "import base64\n",
    "import json\n",
    "from cached_property import cached_property"
   ]
  },
  {
   "cell_type": "code",
   "execution_count": 2,
   "metadata": {},
   "outputs": [],
   "source": [
    "s = requests.Session()"
   ]
  },
  {
   "cell_type": "code",
   "execution_count": 10,
   "metadata": {},
   "outputs": [],
   "source": [
    "class Meijer(object):\n",
    "    # From Meijer_v5.20.1_apkpure.com/res/values/strings.xml\n",
    "    account_services_client_id = \"mma\"\n",
    "    account_services_secret = \"drAqas76Re7RekeBanaMaNEMah7paDE5\"\n",
    "    # Token string, decoded\n",
    "    token_decoded = f\"{account_services_client_id}:{account_services_secret}\".encode(\"UTF-8\")\n",
    "    # Token string, encoded\n",
    "    basic_token = base64.encodebytes(token_decoded).decode(\"UTF-8\").strip()\n",
    "    \n",
    "    def __init__(self, user: str, password: str):\n",
    "        \"\"\"Meijer: Use the Meijer App, programatically, in Python.\n",
    "        \n",
    "        user: username/e-mail address for mperks\n",
    "        pass: password.\n",
    "        \"\"\"\n",
    "        self.user = user\n",
    "        self.password = password\n",
    "        \n",
    "        # This is set on login.\n",
    "        self.bearer_token = None\n",
    "        \n",
    "        # Create a requests session.\n",
    "        self.session = requests.Session()\n",
    "        # Login\n",
    "        self.login()\n",
    "        \n",
    "        \n",
    "    def login(self):\n",
    "        request=dict()\n",
    "        request[\"url\"] = \"https://login.meijer.com/as/token.oauth2\"\n",
    "        request[\"headers\"] = {\n",
    "            'Authorization': f\"Basic {self.basic_token}\",\n",
    "            'Platform': 'Android',\n",
    "            'Version': '5.20.1',\n",
    "            'Build': '52001000',\n",
    "            'Content-Type': 'application/x-www-form-urlencoded',\n",
    "            'Connection': \"Keep-Alive\",\n",
    "            'Accept-Encoding': 'gzip',\n",
    "            'User-Agent': 'okhttp/3.8.0'\n",
    "        }\n",
    "        request[\"params\"] =  {\n",
    "            'grant_type': 'password',\n",
    "            'scope': 'openid',\n",
    "            \"username\": self.user,\n",
    "            \"password\": self.password\n",
    "        }\n",
    "        r = self.session.post(**request)\n",
    "        self.r_ = r # debugs\n",
    "        assert r.status_code==200\n",
    "        \n",
    "        for key, value in r.json().items():\n",
    "            setattr(self, key, value)\n",
    "            \n",
    "        _, meijer_id64, _ = self.access_token.split(\".\")\n",
    "        ids = json.loads(base64.decodebytes(f\"{meijer_id64}=\".encode()))\n",
    "        for key, value in ids.items():\n",
    "            setattr(self, key, value)\n",
    "            \n",
    "        self.bearer_token = f'{self.token_type} {self.access_token}'\n",
    "\n",
    "    @cached_property\n",
    "    def coupons(self):\n",
    "        # Coupons\n",
    "        request=dict()\n",
    "        request[\"url\"] = \"https://mperksservices.meijer.com/dgtlmPerksMMA/api/offers\"\n",
    "        request[\"headers\"] = {\n",
    "            'Accept': \"application/vnd.meijer.digitalmperks.offers-v1.0+json\",\n",
    "            'Authorization': self.bearer_token,\n",
    "            'Platform': 'Android',\n",
    "            'Version': '5.20.1',\n",
    "            'Build': '52001000',\n",
    "            'Content-Type': 'application/vnd.meijer.digitalmperks.offers-v1.0+json',\n",
    "            'Connection': \"Keep-Alive\",\n",
    "            'Accept-Encoding': 'gzip',\n",
    "            'User-Agent': 'okhttp/3.8.0'\n",
    "        }\n",
    "        request[\"json\"] = json.loads('{\"categoryId\":\"\",\"ceilingCount\":0,\"ceilingDuration\":0,\"currentPage\":1,\"displayReasonFilters\":[],\"getOfferCountPerDepartment\":true,\"offerClass\":1,\"offerIds\":[],\"pageSize\":9999,\"rewardCouponId\":0,\"searchCriteria\":\"\",\"showClippedCoupons\":false,\"showOnlySpecialOffers\":false,\"showRedeemedOffers\":false,\"sortType\":\"BySuggested\",\"storeId\":52,\"tagId\":\"\",\"upcList\":[],\"zip\":\"\"}')\n",
    "        r = self.session.post(**request)\n",
    "        self.r_ = r\n",
    "        assert r.status_code == 200\n",
    "        return r.json()['listOfCoupons']\n",
    "    \n",
    "    def clip(self, coupon):\n",
    "        if isinstance(coupon, dict):\n",
    "            meijerOfferId = coupon[\"meijerOfferId\"]\n",
    "        elif isinstance(coupon, [str, int]):\n",
    "            meijerOfferId = coupon\n",
    "        \n",
    "        request[\"url\"] = \"https://mperksservices.meijer.com/dgtlmPerksMMA/api/offers/Clip\"\n",
    "        request[\"headers\"] = {\n",
    "            'Accept': \"application/vnd.meijer.digitalmperks.clip-v1.0+json\",\n",
    "            'Authorization': self.bearer_token,\n",
    "            'Platform': 'Android',\n",
    "            'Version': '5.20.1',\n",
    "            'Build': '52001000',\n",
    "            'Content-Type': 'application/vnd.meijer.digitalmperks.clip-v1.0+json',\n",
    "            'Connection': \"Keep-Alive\",\n",
    "            'Accept-Encoding': 'gzip',\n",
    "            'User-Agent': 'okhttp/3.8.0'\n",
    "        }\n",
    "        request[\"json\"] = {\n",
    "            \"meijerOfferId\": meijerOfferId\n",
    "        }\n",
    "        r = self.session.post(**request)\n",
    "        self.r_ = r\n",
    "        assert r.status_code == 200\n",
    "        \n",
    "    @cached_property\n",
    "    def stores(self):\n",
    "        request=dict()\n",
    "        request[\"url\"] = \"https://mservices.meijer.com/storeinfo/api/mobile/near\"\n",
    "        request[\"headers\"] = {\n",
    "            'Version': \"7\",\n",
    "            'Authorization': self.bearer_token,\n",
    "            'Connection': \"Keep-Alive\",\n",
    "            'Accept-Encoding': 'gzip',\n",
    "            'User-Agent': 'okhttp/3.8.0'\n",
    "        }\n",
    "        latitude, longitude=43.016570, -85.726290\n",
    "        request[\"params\"] =  {\n",
    "            'latitude': latitude,\n",
    "            'longitude': longitude,\n",
    "            'miles': '10000',\n",
    "            'numToReturn': '10000',\n",
    "        }\n",
    "        r = self.session.get(**request)\n",
    "        self.r_ = r\n",
    "        assert r.status_code == 200\n",
    "        return r.json()[\"store\"]\n",
    "        \n",
    "\n",
    "    def __repr__(self):\n",
    "        return \"Meijer<>\"\n",
    "\n",
    "with open(os.path.expanduser(\"~/.ssh/meijer5\"), \"r\") as fid:\n",
    "    meijer_email, meijer_pass,  = [n.strip() for n in fid.readlines()[0:2]]\n",
    "\n",
    "m = Meijer(meijer_email, meijer_pass)\n",
    "self = m"
   ]
  },
  {
   "cell_type": "code",
   "execution_count": 6,
   "metadata": {},
   "outputs": [
    {
     "data": {
      "text/plain": [
       "<Response [200]>"
      ]
     },
     "execution_count": 6,
     "metadata": {},
     "output_type": "execute_result"
    }
   ],
   "source": [
    "r = m.session.get(\"https://static.meijer.com/mobileassets/shopandscan/shopandscan_config.json\")\n",
    "r"
   ]
  },
  {
   "cell_type": "code",
   "execution_count": 7,
   "metadata": {},
   "outputs": [
    {
     "data": {
      "text/plain": [
       "{'currentLibraryVersionIOS': {'major': 3, 'minor': 0, 'patch': 0},\n",
       " 'currentLibraryVersionAndroid': {'major': 2, 'minor': 0, 'patch': 0}}"
      ]
     },
     "execution_count": 7,
     "metadata": {},
     "output_type": "execute_result"
    }
   ],
   "source": []
  },
  {
   "cell_type": "code",
   "execution_count": 9,
   "metadata": {},
   "outputs": [],
   "source": [
    "import uuid"
   ]
  },
  {
   "cell_type": "code",
   "execution_count": 34,
   "metadata": {},
   "outputs": [],
   "source": [
    "cart_uuid = uuid.uuid4()\n",
    "request=dict()\n",
    "request[\"url\"] = \"https://mservices.meijer.com/dgtlmma/accounts/isShopAndScanEnabled\"\n",
    "request[\"headers\"] = {\n",
    "    'Accept': \"application/vnd.meijer.account.shopAndScanEnabled-v1.0+json\",\n",
    "    'Authorization': self.bearer_token,\n",
    "    'Version': \"3.6.0\",\n",
    "    \"Build\": \"36000\",\n",
    "    'Platform': \"Android\",\n",
    "    'Content-Type': \"application/vnd.meijer.account.shopAndScanUserInfo-v1.0+json\",\n",
    "    'Connection': \"Keep-Alive\",\n",
    "    'Accept-Encoding': 'gzip',\n",
    "    'User-Agent': 'okhttp/3.8.0'\n",
    "}\n",
    "latitude, longitude=43.016570, -85.726290\n",
    "request[\"json\"] =  {\n",
    "    'guid': str(cart_uuid)\n",
    "}\n",
    "r = self.session.post(**request)\n",
    "self.r_ = r\n",
    "assert r.status_code == 200\n",
    "assert r.text == 'true'"
   ]
  },
  {
   "cell_type": "code",
   "execution_count": 32,
   "metadata": {},
   "outputs": [
    {
     "data": {
      "text/plain": [
       "b'selfscan:gadef&s@nUT5ut3'"
      ]
     },
     "execution_count": 32,
     "metadata": {},
     "output_type": "execute_result"
    }
   ],
   "source": [
    "base64.decodebytes(b\"c2VsZnNjYW46Z2FkZWYmc0BuVVQ1dXQz=\")"
   ]
  },
  {
   "cell_type": "code",
   "execution_count": null,
   "metadata": {},
   "outputs": [],
   "source": [
    "99999266667395237671"
   ]
  },
  {
   "cell_type": "code",
   "execution_count": 63,
   "metadata": {},
   "outputs": [],
   "source": [
    "fuel_stores = list()\n",
    "for store in m.stores:\n",
    "    if store[\"FuelPrices\"] is None:\n",
    "        continue\n",
    "    for fuel in store[\"FuelPrices\"]:\n",
    "        store[fuel[\"FuelType\"].split(\"-\")[1]]=fuel[\"FuelPrice\"]\n",
    "        store[fuel[\"FuelType\"]+\"_time\"]=fuel[\"PriceEffectiveDate\"]\n",
    "    for f in [\"AuxUnitInfo\", \"GasStationAmenities\", \"GasStationHours\"]:\n",
    "        try:\n",
    "            store.pop(f)\n",
    "        except:\n",
    "            pass\n",
    "    fuel_stores.append(store)\n",
    "    len(store[\"FuelPrices\"])"
   ]
  },
  {
   "cell_type": "code",
   "execution_count": 65,
   "metadata": {},
   "outputs": [],
   "source": [
    "import pandas as pd"
   ]
  },
  {
   "cell_type": "code",
   "execution_count": 66,
   "metadata": {},
   "outputs": [],
   "source": [
    "df = pd.DataFrame(fuel_stores)"
   ]
  },
  {
   "cell_type": "code",
   "execution_count": 75,
   "metadata": {},
   "outputs": [],
   "source": [
    "import pandas as pd\n",
    "import matplotlib.pyplot as plt\n",
    "import seaborn as sns\n",
    "import matplotlib.ticker as mtick"
   ]
  },
  {
   "cell_type": "code",
   "execution_count": 82,
   "metadata": {},
   "outputs": [
    {
     "data": {
      "image/png": "[encoded data removed]",
      "text/plain": [
       "<Figure size 432x288 with 1 Axes>"
      ]
     },
     "metadata": {
      "needs_background": "light"
     },
     "output_type": "display_data"
    }
   ],
   "source": [
    "ax = df[\"Regular Unleaded\"].plot(kind='hist', bins=10)\n",
    "plt.title(\"Histogram of Regular Unleaded at Meijer\")\n",
    "plt.xlabel(\"Regular Unleaded Fuel Price\")\n",
    "plt.ylabel(\"Number of Meijer Stores\")\n",
    "fmt = '${x:,.2f}'\n",
    "tick = mtick.StrMethodFormatter(fmt)\n",
    "ax.xaxis.set_major_formatter(tick)"
   ]
  },
  {
   "cell_type": "code",
   "execution_count": null,
   "metadata": {},
   "outputs": [],
   "source": []
  }
 ],
 "metadata": {
  "kernelspec": {
   "display_name": "Python 3",
   "language": "python",
   "name": "python3"
  },
  "language_info": {
   "codemirror_mode": {
    "name": "ipython",
    "version": 3
   },
   "file_extension": ".py",
   "mimetype": "text/x-python",
   "name": "python",
   "nbconvert_exporter": "python",
   "pygments_lexer": "ipython3",
   "version": "3.7.3"
  }
 },
 "nbformat": 4,
 "nbformat_minor": 2
}
