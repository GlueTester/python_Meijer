{
 "cells": [
  {
   "cell_type": "code",
   "execution_count": 2,
   "metadata": {},
   "outputs": [],
   "source": [
    "%load_ext autoreload\n",
    "%autoreload 2\n",
    "from meijer import Meijer"
   ]
  },
  {
   "cell_type": "code",
   "execution_count": 3,
   "metadata": {},
   "outputs": [],
   "source": [
    "m = Meijer()"
   ]
  },
  {
   "cell_type": "code",
   "execution_count": 4,
   "metadata": {},
   "outputs": [],
   "source": [
    "stores = m.stores()"
   ]
  },
  {
   "cell_type": "code",
   "execution_count": 5,
   "metadata": {},
   "outputs": [
    {
     "data": {
      "text/plain": [
       "dict_keys(['store'])"
      ]
     },
     "execution_count": 5,
     "metadata": {},
     "output_type": "execute_result"
    }
   ],
   "source": [
    "m.r_.json().keys()"
   ]
  },
  {
   "cell_type": "code",
   "execution_count": 6,
   "metadata": {},
   "outputs": [
    {
     "data": {
      "text/plain": [
       "248"
      ]
     },
     "execution_count": 6,
     "metadata": {},
     "output_type": "execute_result"
    }
   ],
   "source": [
    "len(stores)"
   ]
  },
  {
   "cell_type": "code",
   "execution_count": 7,
   "metadata": {},
   "outputs": [],
   "source": [
    "for store in stores:\n",
    "    break"
   ]
  },
  {
   "cell_type": "code",
   "execution_count": 8,
   "metadata": {},
   "outputs": [
    {
     "data": {
      "text/plain": [
       "[{'AuxUnitInfo': None,\n",
       "  'GasStationAmenities': None,\n",
       "  'GasStationHours': [{'DayOfTheWeek': 'Sunday',\n",
       "    'OpenTime': '00:00:00',\n",
       "    'CloseTime': '00:00:00'},\n",
       "   {'DayOfTheWeek': 'Monday', 'OpenTime': '00:00:00', 'CloseTime': '00:00:00'},\n",
       "   {'DayOfTheWeek': 'Tuesday',\n",
       "    'OpenTime': '00:00:00',\n",
       "    'CloseTime': '00:00:00'},\n",
       "   {'DayOfTheWeek': 'Wednesday',\n",
       "    'OpenTime': '00:00:00',\n",
       "    'CloseTime': '00:00:00'},\n",
       "   {'DayOfTheWeek': 'Thursday',\n",
       "    'OpenTime': '00:00:00',\n",
       "    'CloseTime': '00:00:00'},\n",
       "   {'DayOfTheWeek': 'Friday', 'OpenTime': '00:00:00', 'CloseTime': '00:00:00'},\n",
       "   {'DayOfTheWeek': 'Saturday',\n",
       "    'OpenTime': '00:00:00',\n",
       "    'CloseTime': '00:00:00'}],\n",
       "  'FuelPrices': [{'FuelType': 'UNL-Regular Unleaded',\n",
       "    'FuelPrice': 2.469,\n",
       "    'PriceEffectiveDate': '2019-11-23T06:22:15.737'},\n",
       "   {'FuelType': 'MID-Medium Unleaded',\n",
       "    'FuelPrice': 2.769,\n",
       "    'PriceEffectiveDate': '2019-11-23T06:22:15.737'},\n",
       "   {'FuelType': 'PREM-Premium Unleaded',\n",
       "    'FuelPrice': 3.069,\n",
       "    'PriceEffectiveDate': '2019-11-23T06:22:15.737'},\n",
       "   {'FuelType': 'DSL-Diesel',\n",
       "    'FuelPrice': 2.799,\n",
       "    'PriceEffectiveDate': '2019-11-23T06:22:15.737'},\n",
       "   {'FuelType': 'E85-Premium Unleaded',\n",
       "    'FuelPrice': 2.369,\n",
       "    'PriceEffectiveDate': '2019-11-23T06:22:15.737'}],\n",
       "  'StoreFlag': None,\n",
       "  'UnitType': 'CS',\n",
       "  'IsMobileShoppingEnabled': 'N',\n",
       "  'IsMobilePaymentEnabled': 'N',\n",
       "  'unitid': 615,\n",
       "  'streetAddress': '2988 Walker Ave NW',\n",
       "  'city': 'Grand Rapids',\n",
       "  'state': 'MI',\n",
       "  'zip': '49544',\n",
       "  'latitude': 43.019065,\n",
       "  'longitude': -85.72433,\n",
       "  'storeHours': '24 hrs a day, 364 days a year.',\n",
       "  'storeName': '2988 Walker Ave NW, Grand Rapids, MI 49544',\n",
       "  'milesFrom': 0.0,\n",
       "  'storeShortName': 'Walker Gas Station',\n",
       "  'storePhoneNumber': '6167355070',\n",
       "  'pharmacyPhone': '000000000',\n",
       "  'isPharmacy': False,\n",
       "  'pharmacyHours': [{'dayHours': '12:00 AM - 12:00 AM', 'dayOfTheWeek': 'M-F'},\n",
       "   {'dayHours': '12:00 AM - 12:00 AM', 'dayOfTheWeek': 'Sat'},\n",
       "   {'dayHours': '12:00 AM - 12:00 AM', 'dayOfTheWeek': 'Sun'}]}]"
      ]
     },
     "execution_count": 8,
     "metadata": {},
     "output_type": "execute_result"
    }
   ],
   "source": [
    "m.get_store(615)"
   ]
  },
  {
   "cell_type": "code",
   "execution_count": 17,
   "metadata": {},
   "outputs": [],
   "source": [
    "self = m"
   ]
  },
  {
   "cell_type": "code",
   "execution_count": 18,
   "metadata": {},
   "outputs": [],
   "source": [
    "def get_list(self):\n",
    "    request = dict()\n",
    "    request[\"url\"] = \"https://mservices.meijer.com/listmanagement/api/list\"\n",
    "    request[\"headers\"] = {\n",
    "        \"Accept\": \"application/meijer.shoppingList.ShoppingList-v1.0+json\",\n",
    "    }\n",
    "    r = self.get(**request)\n",
    "    return r"
   ]
  },
  {
   "cell_type": "code",
   "execution_count": 24,
   "metadata": {},
   "outputs": [],
   "source": [
    "def get_favorites(self):\n",
    "    request = dict()\n",
    "    request[\"url\"] = \"https://mservices.meijer.com/listmanagement/api/favorites\"\n",
    "    request[\"headers\"] = {\n",
    "        \"Accept\": \"application/vnd.meijer.favorites-v1.0+json\",\n",
    "    }\n",
    "    r = self.get(**request)\n",
    "    return r"
   ]
  },
  {
   "cell_type": "code",
   "execution_count": 26,
   "metadata": {},
   "outputs": [
    {
     "data": {
      "text/plain": [
       "{'listId': 0,\n",
       " 'listName': 'favorite list items for mPerks Web and Mobile',\n",
       " 'listTypeId': 2,\n",
       " 'totalCount': 0,\n",
       " 'favoriteListItems': []}"
      ]
     },
     "execution_count": 26,
     "metadata": {},
     "output_type": "execute_result"
    }
   ],
   "source": [
    "r = get_favorites(self)\n",
    "r"
   ]
  },
  {
   "cell_type": "code",
   "execution_count": 19,
   "metadata": {},
   "outputs": [],
   "source": [
    "r = get_list(self)"
   ]
  },
  {
   "cell_type": "code",
   "execution_count": 20,
   "metadata": {},
   "outputs": [
    {
     "data": {
      "text/plain": [
       "{'listId': 14941634,\n",
       " 'listName': 'Meijer Shopping List for mPerks Web and Mobile',\n",
       " 'listTypeId': 1,\n",
       " 'totalCount': 2,\n",
       " 'listItems': [{'listItemId': 143840384,\n",
       "   'listItemTypeId': 1,\n",
       "   'itemDisplayOrder': 2,\n",
       "   'itemPartNumber': '',\n",
       "   'itemDescription': 'goo',\n",
       "   'quantity': 1,\n",
       "   'storeId': None,\n",
       "   'notes': '',\n",
       "   'couponId': None,\n",
       "   'isComplete': False,\n",
       "   'isFavorite': False,\n",
       "   'listingId': None,\n",
       "   'promotionEnd': None,\n",
       "   'promotionStart': None},\n",
       "  {'listItemId': 143812260,\n",
       "   'listItemTypeId': 1,\n",
       "   'itemDisplayOrder': 1,\n",
       "   'itemPartNumber': '',\n",
       "   'itemDescription': '@#$%&-+()',\n",
       "   'quantity': 1,\n",
       "   'storeId': None,\n",
       "   'notes': '',\n",
       "   'couponId': None,\n",
       "   'isComplete': False,\n",
       "   'isFavorite': False,\n",
       "   'listingId': None,\n",
       "   'promotionEnd': None,\n",
       "   'promotionStart': None}]}"
      ]
     },
     "execution_count": 20,
     "metadata": {},
     "output_type": "execute_result"
    }
   ],
   "source": [
    "r"
   ]
  },
  {
   "cell_type": "code",
   "execution_count": 27,
   "metadata": {},
   "outputs": [],
   "source": [
    "import json"
   ]
  },
  {
   "cell_type": "code",
   "execution_count": 29,
   "metadata": {},
   "outputs": [
    {
     "data": {
      "text/plain": [
       "{'listItems': [{'couponId': 0,\n",
       "   'isComplete': False,\n",
       "   'isFavorite': False,\n",
       "   'itemDescription': 'added item',\n",
       "   'itemDisplayOrder': 0,\n",
       "   'listItemId': 0,\n",
       "   'listItemTypeId': 0,\n",
       "   'quantity': 1,\n",
       "   'storeId': 0}]}"
      ]
     },
     "execution_count": 29,
     "metadata": {},
     "output_type": "execute_result"
    }
   ],
   "source": [
    "json.loads('{\"listItems\":[{\"couponId\":0,\"isComplete\":false,\"isFavorite\":false,\"itemDescription\":\"added item\",\"itemDisplayOrder\":0,\"listItemId\":0,\"listItemTypeId\":0,\"quantity\":1,\"storeId\":0}]}')"
   ]
  },
  {
   "cell_type": "code",
   "execution_count": 35,
   "metadata": {},
   "outputs": [],
   "source": [
    "def list_add(self, description):\n",
    "    request = dict()\n",
    "    request[\"url\"] = \"https://mservices.meijer.com/listmanagement/api/list\"\n",
    "    request[\"headers\"] = {\n",
    "        \"Accept\": \"application/vnd.meijer.listManagement.list-v1.0+json\",\n",
    "        \"Content-Type\": \"application/vnd.meijer.listManagement.list-v1.0+json\",\n",
    "    }\n",
    "    request[\"json\"] = {'listItems': [{'couponId': 0,\n",
    "   'isComplete': False,\n",
    "   'isFavorite': False,\n",
    "   'itemDescription': description,\n",
    "   'itemDisplayOrder': 0,\n",
    "   'listItemId': 0,\n",
    "   'listItemTypeId': 0,\n",
    "   'quantity': 1,\n",
    "   'storeId': 0}]}\n",
    "    r = self.post(**request)\n",
    "    return r"
   ]
  },
  {
   "cell_type": "code",
   "execution_count": 46,
   "metadata": {},
   "outputs": [],
   "source": [
    "request = dict()\n",
    "request[\"url\"] = \"https://mservices.meijer.com/listmanagement/api/list\"\n",
    "request[\"headers\"] = {\n",
    "    \"Accept\": \"application/vnd.meijer.listManagement.list-v1.0+json\",\n",
    "    \"Content-Type\": \"application/vnd.meijer.listManagement.list-v1.0+json\",\n",
    "}\n",
    "request[\"json\"] = {'listItems': [{'couponId': 0,\n",
    "'isComplete': False,\n",
    "'isFavorite': False,\n",
    "'itemDescription': \"Hello World\",\n",
    "'itemDisplayOrder': 0,\n",
    "'listItemId': 0,\n",
    "'listItemTypeId': 0,\n",
    "'quantity': 1,\n",
    "'storeId': 0}]}\n",
    "r = self.session.post(**request)"
   ]
  },
  {
   "cell_type": "code",
   "execution_count": 51,
   "metadata": {},
   "outputs": [
    {
     "ename": "SyntaxError",
     "evalue": "invalid syntax (<ipython-input-51-7933c6d3cd9a>, line 1)",
     "output_type": "error",
     "traceback": [
      "\u001b[0;36m  File \u001b[0;32m\"<ipython-input-51-7933c6d3cd9a>\"\u001b[0;36m, line \u001b[0;32m1\u001b[0m\n\u001b[0;31m    for i in range(10)\u001b[0m\n\u001b[0m                      ^\u001b[0m\n\u001b[0;31mSyntaxError\u001b[0m\u001b[0;31m:\u001b[0m invalid syntax\n"
     ]
    }
   ],
   "source": [
    "for i in range(10):\n",
    "    list_add(self, f\"Hello World {str(i)}\")"
   ]
  },
  {
   "cell_type": "code",
   "execution_count": null,
   "metadata": {},
   "outputs": [],
   "source": []
  }
 ],
 "metadata": {
  "kernelspec": {
   "display_name": "Python 3",
   "language": "python",
   "name": "python3"
  },
  "language_info": {
   "codemirror_mode": {
    "name": "ipython",
    "version": 3
   },
   "file_extension": ".py",
   "mimetype": "text/x-python",
   "name": "python",
   "nbconvert_exporter": "python",
   "pygments_lexer": "ipython3",
   "version": "3.7.3"
  }
 },
 "nbformat": 4,
 "nbformat_minor": 2
}
