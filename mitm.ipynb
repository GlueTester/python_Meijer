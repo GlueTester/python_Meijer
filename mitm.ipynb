{
 "cells": [
  {
   "cell_type": "code",
   "execution_count": 2,
   "metadata": {},
   "outputs": [],
   "source": [
    "from mitmproxy import http"
   ]
  },
  {
   "cell_type": "code",
   "execution_count": 3,
   "metadata": {},
   "outputs": [],
   "source": [
    "def request(flow: http.HTTPFlow):\n",
    "    # redirect to different host\n",
    "    if flow.request.pretty_host == \"example.com\":\n",
    "        flow.request.host = \"mitmproxy.org\"\n",
    "    # answer from proxy\n",
    "    elif flow.request.path.endswith(\"/brew\"):\n",
    "        flow.response = http.HTTPResponse.make(\n",
    "            418, b\"I'm a teapot\",\n",
    "        )"
   ]
  },
  {
   "cell_type": "code",
   "execution_count": null,
   "metadata": {},
   "outputs": [],
   "source": []
  }
 ],
 "metadata": {
  "kernelspec": {
   "display_name": "Python 3",
   "language": "python",
   "name": "python3"
  },
  "language_info": {
   "codemirror_mode": {
    "name": "ipython",
    "version": 3
   },
   "file_extension": ".py",
   "mimetype": "text/x-python",
   "name": "python",
   "nbconvert_exporter": "python",
   "pygments_lexer": "ipython3",
   "version": "3.6.5"
  }
 },
 "nbformat": 4,
 "nbformat_minor": 2
}
